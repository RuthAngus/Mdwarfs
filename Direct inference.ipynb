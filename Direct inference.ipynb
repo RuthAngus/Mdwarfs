{
 "metadata": {
  "name": "",
  "signature": "sha256:24d1a11d1201bc49e7427245fcee60387cdd73e37da001f4d209d0454a98a072"
 },
 "nbformat": 3,
 "nbformat_minor": 0,
 "worksheets": [
  {
   "cells": [
    {
     "cell_type": "markdown",
     "metadata": {},
     "source": [
      "#Just do the inference"
     ]
    },
    {
     "cell_type": "markdown",
     "metadata": {},
     "source": [
      "You're trying to model the mass distribution of exoplanets orbiting M dwarfs. You have 2 things: the radii of exoplanets orbiting M dwarfs from Kepler and the $m\\sin(i)$s of some (mostly different) planets orbiting M dwarfs."
     ]
    },
    {
     "cell_type": "markdown",
     "metadata": {},
     "source": [
      "# The parameters"
     ]
    },
    {
     "cell_type": "markdown",
     "metadata": {},
     "source": [
      "The observables: n = 1, ..., N semi-amplitudes, periods & stellar masses from RV surveys and j = 1, ..., J radii from Kepler, $$\\{\\mathbf{k_n}\\}, \\{\\mathbf{P_n}\\}, \\{\\mathbf{m_{*, n}}\\},  \\{\\mathbf{R_j}\\},$$  "
     ]
    },
    {
     "cell_type": "markdown",
     "metadata": {},
     "source": [
      "the latent parameter we'll marginalise over: inclination, $$i,$$ "
     ]
    },
    {
     "cell_type": "markdown",
     "metadata": {},
     "source": [
      "the completeness parameters: $$Q_k(k), Q_P(P),$$ where $Q_P(P)$ and $Q_k(k)$ are the period and semi-amplitude detection efficiencies in the RV survey. $Q_R(R)$ is Kepler's radius detection efficiency (which is known)."
     ]
    },
    {
     "cell_type": "markdown",
     "metadata": {},
     "source": [
      "The mass-radius relation parameters, $$\\mathbf{\\alpha},$$"
     ]
    },
    {
     "cell_type": "markdown",
     "metadata": {},
     "source": [
      "and the things we want, the mass distribution parameters: $$\\mathbf{\\theta_m}.$$"
     ]
    },
    {
     "cell_type": "markdown",
     "metadata": {},
     "source": [
      "# The likelihood function"
     ]
    },
    {
     "cell_type": "markdown",
     "metadata": {},
     "source": [
      "The total log-likelihood can be written as the sum of log-likelihoods of the RV-mass-distribution parameters and the transit-mass-distribution parameters:"
     ]
    },
    {
     "cell_type": "markdown",
     "metadata": {},
     "source": [
      "$$\\ln \\mathcal{L}_{tot} = \\ln \\mathcal{L}_{transit} + \\ln \\mathcal{L}_{RV}.$$"
     ]
    },
    {
     "cell_type": "markdown",
     "metadata": {},
     "source": [
      "The marginalised transit likelihood is, $$\\mathcal{L}_{transit} = p(\\{\\hat{R}\\}|\\theta_m) = \\prod \\int p(\\{\\hat{R}\\}, \\alpha|\\theta_m)d\\alpha$$"
     ]
    },
    {
     "cell_type": "markdown",
     "metadata": {},
     "source": [
      "And the marginalised RV likelihood is, $$\\mathcal{L}_{RV} = p(\\{\\hat{k}\\}, \\{\\hat{P}\\}, \\{\\hat{m}_{*}\\}|\\theta_m) = \\prod \\int p(\\{\\hat{k}\\}, \\{\\hat{P}\\}, \\{\\hat{m}_*\\}, \\{i\\}, Q_p, Q_k|\\theta_m)dQ_p, dQ_k, d\\{i\\}$$"
     ]
    },
    {
     "cell_type": "markdown",
     "metadata": {},
     "source": [
      "There are also some systems with both RVs and light curves. I'm not sure how to deal with these yet because the assumption of independence breaks down."
     ]
    },
    {
     "cell_type": "markdown",
     "metadata": {},
     "source": [
      "We'll be using a Poissonian likelihood function:\n",
      "$$p(\\{\\mathbf{w}_k\\}|\\theta) = \\exp\\left( - \\int \\hat{\\Gamma}_\\theta(\\mathbf{w})d\\mathbf{w} \\right) \\prod_{k=1}^K \\Gamma_\\theta(\\mathbf{w}_k) $$"
     ]
    },
    {
     "cell_type": "markdown",
     "metadata": {},
     "source": [
      "Where $\\mathbf{w} = \\left( k, P, m_* \\right)$ or $R$ "
     ]
    },
    {
     "cell_type": "markdown",
     "metadata": {},
     "source": [
      "# The model"
     ]
    },
    {
     "cell_type": "markdown",
     "metadata": {},
     "source": [
      "1) Transits:"
     ]
    },
    {
     "cell_type": "markdown",
     "metadata": {},
     "source": [
      "The mass radius relation: $$ m_p = f(R, \\alpha)$$"
     ]
    },
    {
     "cell_type": "markdown",
     "metadata": {},
     "source": [
      "The rate of planets as a function of mass can be written $$ \\Gamma_{m_p}(m_p) = f\\left(Q_R(R) \\Gamma_R(R), \\alpha\\right)$$\n",
      "\n",
      "\n",
      "where e.g., $\\Gamma_{m_p}(m_p) = \\left. \\frac{dN}{d\\ln m_p}\\right|m_p=m_p$"
     ]
    },
    {
     "cell_type": "markdown",
     "metadata": {},
     "source": [
      "2) RVs:"
     ]
    },
    {
     "cell_type": "markdown",
     "metadata": {},
     "source": [
      "$$k = \\frac{2 \\pi G}{P^{\\frac{1}{3}}} \\frac{m_p \\sin (i)}{(m_p + m_*)^{\\frac{2}{3}}} \\approx \\frac{2 \\pi G}{P^{\\frac{1}{3}}} \\frac{m_p \\sin (i)}{m_*^{\\frac{2}{3}}}$$"
     ]
    },
    {
     "cell_type": "markdown",
     "metadata": {},
     "source": [
      "$$m_p \\approx \\frac{k P^{\\frac{2}{3}}m_*^{\\frac{2}{3}}}{2 \\pi G \\sin (i)}, $$"
     ]
    },
    {
     "cell_type": "markdown",
     "metadata": {},
     "source": [
      "$m_p = g(k, P, m_*, i)$ and $Q_{m_p} = h(Q_P, Q_k, Q_{host~star~luminosity?})$"
     ]
    },
    {
     "cell_type": "markdown",
     "metadata": {},
     "source": [
      "$$\\Gamma_{m_p}(m_p) = Q_{m_p}(m_p)\\Gamma_{m_p}$$"
     ]
    },
    {
     "cell_type": "markdown",
     "metadata": {},
     "source": [
      "#Weiss and Marcy relation: \n",
      "$$R < 1.5~R_{Earth}$$\n",
      "\n",
      "$$\\rho = 2.43 + 3.39 \\left(\\frac{R_p}{R_{Earth}}\\right) \\left(\\frac{g}{cm^{3}}\\right)$$\n",
      "\n",
      "$$1.5 < R < 4 R_{Earth}$$\n",
      "\n",
      "$$\\frac{M_p}{M_{Earth}} = 2.69 \\left(\\frac{R_P}{R_{Earth}}\\right)^{0.93}$$"
     ]
    },
    {
     "cell_type": "code",
     "collapsed": false,
     "input": [
      "import numpy as np\n",
      "import matplotlib.pyplot as plt\n",
      "import astropy.constants as const\n",
      "import h5py\n",
      "%matplotlib inline"
     ],
     "language": "python",
     "metadata": {},
     "outputs": [],
     "prompt_number": 1
    },
    {
     "cell_type": "code",
     "collapsed": false,
     "input": [
      "def Weiss_MR(theta, R):\n",
      "    \n",
      "    # convert g/cm3 to M_earth/R_earth\n",
      "    rho_earth = 5.51\n",
      "    \n",
      "    M = np.zeros_like(R)\n",
      "    l = R < 1.5\n",
      "    M[l] = 4*np.pi*(theta[0]+theta[1]*R[l])/(3*R[l]**3) / rho_earth\n",
      "    l = (1.5 < R) & (R < 4)\n",
      "    M[l] = theta[2]*R[l]**theta[3]\n",
      "    return M"
     ],
     "language": "python",
     "metadata": {},
     "outputs": [],
     "prompt_number": 2
    },
    {
     "cell_type": "markdown",
     "metadata": {},
     "source": [
      "Functions that I need:\n",
      "\n",
      "load_data:\n",
      "load_detection_efficiency \n",
      "\n",
      "can get this from Kepler now, apparently.\n",
      "4 1d arrays:\n",
      "\"ln_period_bin_edges\",\n",
      "\"ln_radius_bin_edges\",\n",
      "\"ln_detect_eff\",\n",
      "\"lncompleteness\".\n",
      "\n",
      "load_completenes_sim \n",
      "\n",
      "load completeness simulations - Maybe I should use Courtney's planets? Although I don't really need this...\n",
      "\n",
      "load_candidates (from exoplanet.org for now? Periods and radii for M dwarf stars)\n",
      "load_petigura_bins (I can use whatever bins I want)\n",
      "\n",
      "I want to remake figures 5, 6, 7, 8 in Foreman-Mackey et al with real data. \n",
      "And then convert everything to masses...\n",
      "\n",
      "Do I though? Yes because I want to properly deal with completeness.\n",
      "\n",
      "Alternatively, I could transform all those radii to masses first and also transform the detection efficiencies to masses. \n",
      "That might be better...\n",
      "\n",
      "I guess I should try both."
     ]
    },
    {
     "cell_type": "markdown",
     "metadata": {},
     "source": [
      "temporary fix: \n",
      "1. use Courtney's values for the radius distribution (or Tim Morton's)\n",
      "2. Convert to mass\n",
      "3. Injection and recovery in the Mdwarf RV data"
     ]
    },
    {
     "cell_type": "code",
     "collapsed": false,
     "input": [],
     "language": "python",
     "metadata": {},
     "outputs": [],
     "prompt_number": 8
    },
    {
     "cell_type": "code",
     "collapsed": false,
     "input": [],
     "language": "python",
     "metadata": {},
     "outputs": [],
     "prompt_number": 8
    },
    {
     "cell_type": "code",
     "collapsed": false,
     "input": [],
     "language": "python",
     "metadata": {},
     "outputs": [],
     "prompt_number": 6
    },
    {
     "cell_type": "code",
     "collapsed": false,
     "input": [],
     "language": "python",
     "metadata": {},
     "outputs": [],
     "prompt_number": 8
    },
    {
     "cell_type": "code",
     "collapsed": false,
     "input": [],
     "language": "python",
     "metadata": {},
     "outputs": []
    }
   ],
   "metadata": {}
  }
 ]
}