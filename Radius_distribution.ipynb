{
 "metadata": {
  "name": "",
  "signature": "sha256:64aafbec708ab7a78efe16ada95b86f46f85db298c8cd6af0c19db511fd6f210"
 },
 "nbformat": 3,
 "nbformat_minor": 0,
 "worksheets": [
  {
   "cells": [
    {
     "cell_type": "code",
     "collapsed": false,
     "input": [
      "import numpy as np\n",
      "import matplotlib.pyplot as plt\n",
      "import astropy.constants as const\n",
      "from draw_from_arbitrary_pdf import GeneralRandom\n",
      "from ABC_utils import *\n",
      "import h5py\n",
      "%matplotlib inline"
     ],
     "language": "python",
     "metadata": {},
     "outputs": [],
     "prompt_number": 70
    },
    {
     "cell_type": "markdown",
     "metadata": {},
     "source": [
      "Load the exoplanet data (from exoplanets.org)"
     ]
    },
    {
     "cell_type": "code",
     "collapsed": false,
     "input": [
      "msini, a, period, K, mstar = np.genfromtxt(\"exoplanet_table.txt\", delimiter=\",\", invalid_raise=False).T\n",
      "l = np.isfinite(mstar) & np.isfinite(msini) & np.isfinite(period)\n",
      "period, mstar, msini = period[l], mstar[l], msini[l]"
     ],
     "language": "python",
     "metadata": {},
     "outputs": [],
     "prompt_number": 2
    },
    {
     "cell_type": "markdown",
     "metadata": {},
     "source": [
      "Select the M dwarf hosts"
     ]
    },
    {
     "cell_type": "code",
     "collapsed": false,
     "input": [
      "l = (mstar < .6)\n",
      "# convert to earth masses\n",
      "m_e = msini[l] * const.M_jup / const.M_earth\n",
      "p = period[l]"
     ],
     "language": "python",
     "metadata": {},
     "outputs": [],
     "prompt_number": 4
    },
    {
     "cell_type": "markdown",
     "metadata": {},
     "source": [
      "Plot the msinis and periods"
     ]
    },
    {
     "cell_type": "code",
     "collapsed": false,
     "input": [
      "plt.subplot(2, 1, 1)\n",
      "plt.hist(np.log10(m_e), 7, color=\"w\", histtype=\"stepfilled\", edgecolor=\".2\")\n",
      "plt.xlabel(\"log10 Msini (M_Earth)\")\n",
      "plt.subplot(2, 1, 2)\n",
      "plt.hist(np.log10(p), 7, color=\"w\", histtype=\"stepfilled\", edgecolor=\".2\")\n",
      "plt.xlabel(\"log10 Period (days)\")\n",
      "plt.subplots_adjust(hspace=.3)"
     ],
     "language": "python",
     "metadata": {},
     "outputs": [
      {
       "metadata": {},
       "output_type": "display_data",
       "png": "[encoded data removed]",
       "text": [
        "<matplotlib.figure.Figure at 0x10979e910>"
       ]
      }
     ],
     "prompt_number": 8
    },
    {
     "cell_type": "markdown",
     "metadata": {},
     "source": [
      "Load Tim's period distribution function"
     ]
    },
    {
     "cell_type": "code",
     "collapsed": false,
     "input": [
      "x, y = np.genfromtxt(\"data/logp_distribution_tabulated.txt\").T\n",
      "plt.plot(x, y)\n",
      "plt.xlabel(\"log10 Period (days)\")"
     ],
     "language": "python",
     "metadata": {},
     "outputs": [
      {
       "metadata": {},
       "output_type": "pyout",
       "prompt_number": 60,
       "text": [
        "<matplotlib.text.Text at 0x10dd7f190>"
       ]
      },
      {
       "metadata": {},
       "output_type": "display_data",
       "png": "[encoded data removed]",
       "text": [
        "<matplotlib.figure.Figure at 0x10d9b8410>"
       ]
      }
     ],
     "prompt_number": 60
    },
    {
     "cell_type": "markdown",
     "metadata": {},
     "source": [
      "Draw samples in period"
     ]
    },
    {
     "cell_type": "code",
     "collapsed": false,
     "input": [
      "nsim = 1000\n",
      "GR = GeneralRandom()\n",
      "GR.set_pdf(x, y)\n",
      "period_draws = GR.random(nsim)[0]\n",
      "plt.hist(period_draws, 50)\n",
      "plt.xlim(.5, 4.5)"
     ],
     "language": "python",
     "metadata": {},
     "outputs": [
      {
       "metadata": {},
       "output_type": "pyout",
       "prompt_number": 61,
       "text": [
        "(0.5, 4.5)"
       ]
      },
      {
       "metadata": {},
       "output_type": "display_data",
       "png": "[encoded data removed]",
       "text": [
        "<matplotlib.figure.Figure at 0x10e205790>"
       ]
      }
     ],
     "prompt_number": 61
    },
    {
     "cell_type": "markdown",
     "metadata": {},
     "source": [
      "And his radius distribution function"
     ]
    },
    {
     "cell_type": "code",
     "collapsed": false,
     "input": [
      "x, y = np.genfromtxt(\"data/radfn_tabulated.txt\").T\n",
      "plt.plot(x, y)\n",
      "plt.xlabel(\"R (R_Earth)\")"
     ],
     "language": "python",
     "metadata": {},
     "outputs": [
      {
       "metadata": {},
       "output_type": "pyout",
       "prompt_number": 62,
       "text": [
        "<matplotlib.text.Text at 0x10e41dc10>"
       ]
      },
      {
       "metadata": {},
       "output_type": "display_data",
       "png": "[encoded data removed]",
       "text": [
        "<matplotlib.figure.Figure at 0x10e162c10>"
       ]
      }
     ],
     "prompt_number": 62
    },
    {
     "cell_type": "markdown",
     "metadata": {},
     "source": [
      "Draw samples from this pdf"
     ]
    },
    {
     "cell_type": "code",
     "collapsed": false,
     "input": [
      "GR.set_pdf(x, y)\n",
      "radius_draws = GR.random(nsim)[0]\n",
      "plt.hist(radius_draws, 50)\n",
      "plt.xlim(.5, 4.5)"
     ],
     "language": "python",
     "metadata": {},
     "outputs": [
      {
       "metadata": {},
       "output_type": "pyout",
       "prompt_number": 63,
       "text": [
        "(0.5, 4.5)"
       ]
      },
      {
       "metadata": {},
       "output_type": "display_data",
       "png": "[encoded data removed]",
       "text": [
        "<matplotlib.figure.Figure at 0x10e790a90>"
       ]
      }
     ],
     "prompt_number": 63
    },
    {
     "cell_type": "markdown",
     "metadata": {},
     "source": [
      "#Weiss and Marcy relation: \n",
      "$$R < 1.5~R_{Earth}$$\n",
      "\n",
      "$$\\rho = 2.43 + 3.39 \\left(\\frac{R_p}{R_{Earth}}\\right) \\left(\\frac{g}{cm^{3}}\\right)$$\n",
      "\n",
      "$$1.5 < R < 4 R_{Earth}$$\n",
      "\n",
      "$$\\frac{M_p}{M_{Earth}} = 2.69 \\left(\\frac{R_P}{R_{Earth}}\\right)^{0.93}$$"
     ]
    },
    {
     "cell_type": "code",
     "collapsed": false,
     "input": [
      "def Weiss_MR(theta, R):\n",
      "    \n",
      "    # convert g/cm3 to M_earth/R_earth\n",
      "    rho_earth = 5.51\n",
      "    \n",
      "    M = np.zeros_like(R)\n",
      "    l = R < 1.5\n",
      "    M[l] = 4*np.pi*(theta[0]+theta[1]*R[l])/(3*R[l]**3) / rho_earth\n",
      "    l = (1.5 < R) & (R < 4)\n",
      "    M[l] = theta[2]*R[l]**theta[3]\n",
      "    return M"
     ],
     "language": "python",
     "metadata": {},
     "outputs": [],
     "prompt_number": 48
    },
    {
     "cell_type": "markdown",
     "metadata": {},
     "source": [
      "Convert sampled radii into masses"
     ]
    },
    {
     "cell_type": "code",
     "collapsed": false,
     "input": [
      "theta_init = [2.43, 3.39, 2.69, .93]\n",
      "mass_draws = Weiss_MR(theta_init, radius_draws)\n",
      "l = mass_draws > 0\n",
      "plt.hist(mass_draws[l], 50)\n",
      "plt.xlabel(\"mass (M_earth)\")"
     ],
     "language": "python",
     "metadata": {},
     "outputs": [
      {
       "metadata": {},
       "output_type": "pyout",
       "prompt_number": 64,
       "text": [
        "<matplotlib.text.Text at 0x10f0de710>"
       ]
      },
      {
       "metadata": {},
       "output_type": "display_data",
       "png": "[encoded data removed]",
       "text": [
        "<matplotlib.figure.Figure at 0x10e221b10>"
       ]
      }
     ],
     "prompt_number": 64
    },
    {
     "cell_type": "markdown",
     "metadata": {},
     "source": [
      "Plot mass vs radius"
     ]
    },
    {
     "cell_type": "code",
     "collapsed": false,
     "input": [
      "plt.plot(radius_draws, mass_draws, \"k.\")\n",
      "plt.xlabel(\"Radius (R_Earth)\")\n",
      "plt.ylabel(\"Mass (M_Earth)\")"
     ],
     "language": "python",
     "metadata": {},
     "outputs": [
      {
       "metadata": {},
       "output_type": "pyout",
       "prompt_number": 65,
       "text": [
        "<matplotlib.text.Text at 0x10e1382d0>"
       ]
      },
      {
       "metadata": {},
       "output_type": "display_data",
       "png": "[encoded data removed]",
       "text": [
        "<matplotlib.figure.Figure at 0x10e446e50>"
       ]
      }
     ],
     "prompt_number": 65
    },
    {
     "cell_type": "markdown",
     "metadata": {},
     "source": [
      "Convert masses to msinis"
     ]
    },
    {
     "cell_type": "code",
     "collapsed": false,
     "input": [
      "cos_inc = np.random.uniform(0, 1, nsim)  # simulate random inclinations\n",
      "inc = np.arccos(cos_inc)\n",
      "msini_sim = mass_draws * inc"
     ],
     "language": "python",
     "metadata": {},
     "outputs": [],
     "prompt_number": 55
    },
    {
     "cell_type": "markdown",
     "metadata": {},
     "source": [
      "Plot the planet population that would be observed, given Kmin and Pmax"
     ]
    },
    {
     "cell_type": "code",
     "collapsed": false,
     "input": [
      "msini_sim_kept = populationize(theta_init, radius_draws, period_draws, star_masses)\n",
      "plt.clf()\n",
      "plt.subplot(2, 1, 1)\n",
      "plt.hist(msini_sim, color=\"b\", alpha=.5)\n",
      "plt.hist(msini_true, color=\"r\", alpha=.5)"
     ],
     "language": "python",
     "metadata": {},
     "outputs": [
      {
       "ename": "NameError",
       "evalue": "name 'star_masses' is not defined",
       "output_type": "pyerr",
       "traceback": [
        "\u001b[0;31m---------------------------------------------------------------------------\u001b[0m\n\u001b[0;31mNameError\u001b[0m                                 Traceback (most recent call last)",
        "\u001b[0;32m<ipython-input-68-1d1d0410ef9e>\u001b[0m in \u001b[0;36m<module>\u001b[0;34m()\u001b[0m\n\u001b[0;32m----> 1\u001b[0;31m \u001b[0mmsini_sim_kept\u001b[0m \u001b[0;34m=\u001b[0m \u001b[0mpopulationize\u001b[0m\u001b[0;34m(\u001b[0m\u001b[0mtheta_init\u001b[0m\u001b[0;34m,\u001b[0m \u001b[0mradius_draws\u001b[0m\u001b[0;34m,\u001b[0m \u001b[0mperiod_draws\u001b[0m\u001b[0;34m,\u001b[0m \u001b[0mstar_masses\u001b[0m\u001b[0;34m)\u001b[0m\u001b[0;34m\u001b[0m\u001b[0m\n\u001b[0m\u001b[1;32m      2\u001b[0m \u001b[0mplt\u001b[0m\u001b[0;34m.\u001b[0m\u001b[0mclf\u001b[0m\u001b[0;34m(\u001b[0m\u001b[0;34m)\u001b[0m\u001b[0;34m\u001b[0m\u001b[0m\n\u001b[1;32m      3\u001b[0m \u001b[0mplt\u001b[0m\u001b[0;34m.\u001b[0m\u001b[0msubplot\u001b[0m\u001b[0;34m(\u001b[0m\u001b[0;36m2\u001b[0m\u001b[0;34m,\u001b[0m \u001b[0;36m1\u001b[0m\u001b[0;34m,\u001b[0m \u001b[0;36m1\u001b[0m\u001b[0;34m)\u001b[0m\u001b[0;34m\u001b[0m\u001b[0m\n\u001b[1;32m      4\u001b[0m \u001b[0mplt\u001b[0m\u001b[0;34m.\u001b[0m\u001b[0mhist\u001b[0m\u001b[0;34m(\u001b[0m\u001b[0mmsini_sim\u001b[0m\u001b[0;34m,\u001b[0m \u001b[0mcolor\u001b[0m\u001b[0;34m=\u001b[0m\u001b[0;34m\"b\"\u001b[0m\u001b[0;34m,\u001b[0m \u001b[0malpha\u001b[0m\u001b[0;34m=\u001b[0m\u001b[0;36m.5\u001b[0m\u001b[0;34m)\u001b[0m\u001b[0;34m\u001b[0m\u001b[0m\n\u001b[1;32m      5\u001b[0m \u001b[0mplt\u001b[0m\u001b[0;34m.\u001b[0m\u001b[0mhist\u001b[0m\u001b[0;34m(\u001b[0m\u001b[0mmsini_true\u001b[0m\u001b[0;34m,\u001b[0m \u001b[0mcolor\u001b[0m\u001b[0;34m=\u001b[0m\u001b[0;34m\"r\"\u001b[0m\u001b[0;34m,\u001b[0m \u001b[0malpha\u001b[0m\u001b[0;34m=\u001b[0m\u001b[0;36m.5\u001b[0m\u001b[0;34m)\u001b[0m\u001b[0;34m\u001b[0m\u001b[0m\n",
        "\u001b[0;31mNameError\u001b[0m: name 'star_masses' is not defined"
       ]
      }
     ],
     "prompt_number": 68
    },
    {
     "cell_type": "markdown",
     "metadata": {},
     "source": [
      "Generate parameter samples (sample from priors)"
     ]
    },
    {
     "cell_type": "code",
     "collapsed": false,
     "input": [
      "nsamp, ndim = 10000, 4\n",
      "thetas = np.zeros((ndim, nsamp))\n",
      "thetas[0, :] = theta_init[0] + np.random.randn(nsamp) * .1  # small radius intercept\n",
      "thetas[1, :] = theta_init[1] + np.random.randn(nsamp) * .1  # small radius slope\n",
      "thetas[2, :] = theta_init[2] + np.random.randn(nsamp) * .1  # large radius slope\n",
      "thetas[3, :] = theta_init[3] + np.random.randn(nsamp) * .05  # large radius power index\n",
      "keepsies = np.zeros_like(thetas)"
     ],
     "language": "python",
     "metadata": {},
     "outputs": [],
     "prompt_number": 66
    },
    {
     "cell_type": "markdown",
     "metadata": {},
     "source": [
      "Load M dwarfs from SUPERBLINK and place simulated planets around simulated M dwarfs"
     ]
    },
    {
     "cell_type": "code",
     "collapsed": false,
     "input": [
      "with h5py.File(\"Mdwarf_parameters.h5\", \"r\") as f:\n",
      "    parameters = f[\"params\"][:, :]\n",
      "masses = parameters[:, 0]\n",
      "l = masses < .6\n",
      "plt.hist(masses[l])"
     ],
     "language": "python",
     "metadata": {},
     "outputs": [
      {
       "metadata": {},
       "output_type": "pyout",
       "prompt_number": 71,
       "text": [
        "(array([ 72.,  16.,  12.,   8.,   3.,   1.,  10.,   5.,   6.,   6.]),\n",
        " array([ 0.1       ,  0.1491719 ,  0.1983438 ,  0.24751569,  0.29668759,\n",
        "         0.34585949,  0.39503138,  0.44420328,  0.49337518,  0.54254707,\n",
        "         0.59171897]),\n",
        " <a list of 10 Patch objects>)"
       ]
      },
      {
       "metadata": {},
       "output_type": "display_data",
       "png": "[encoded data removed]",
       "text": [
        "<matplotlib.figure.Figure at 0x10e254690>"
       ]
      }
     ],
     "prompt_number": 71
    },
    {
     "cell_type": "code",
     "collapsed": false,
     "input": [],
     "language": "python",
     "metadata": {},
     "outputs": []
    }
   ],
   "metadata": {}
  }
 ]
}