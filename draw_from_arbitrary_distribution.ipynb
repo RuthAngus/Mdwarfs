{
 "metadata": {
  "name": "",
  "signature": "sha256:e67f67ffbd130495cfcbfe91b1b44337cf359f48e7bc59d035058e453da38407"
 },
 "nbformat": 3,
 "nbformat_minor": 0,
 "worksheets": [
  {
   "cells": [
    {
     "cell_type": "code",
     "collapsed": false,
     "input": [
      "import pylab\n",
      "import numpy\n",
      "\n",
      "class GeneralRandom:\n",
      "  \"\"\"This class enables us to generate random numbers with an arbitrary \n",
      "  distribution.\"\"\"\n",
      "  \n",
      "  def __init__(self, x = pylab.arange(-1.0, 1.0, .01), p = None, Nrl = 1000):\n",
      "    \"\"\"Initialize the lookup table (with default values if necessary)\n",
      "    Inputs:\n",
      "    x = random number values\n",
      "    p = probability density profile at that point\n",
      "    Nrl = number of reverse look up values between 0 and 1\"\"\"  \n",
      "    if p == None:\n",
      "      p = pylab.exp(-10*x**2.0)\n",
      "    self.set_pdf(x, p, Nrl)\n",
      "    \n",
      "  def set_pdf(self, x, p, Nrl = 1000):\n",
      "    \"\"\"Generate the lookup tables. \n",
      "    x is the value of the random variate\n",
      "    pdf is its probability density\n",
      "    cdf is the cumulative pdf\n",
      "    inversecdf is the inverse look up table\n",
      "    \n",
      "    \"\"\"\n",
      "    \n",
      "    self.x = x\n",
      "    self.pdf = p/p.sum() #normalize it\n",
      "    self.cdf = self.pdf.cumsum()\n",
      "    self.inversecdfbins = Nrl\n",
      "    self.Nrl = Nrl\n",
      "    y = pylab.arange(Nrl)/float(Nrl)\n",
      "    delta = 1.0/Nrl\n",
      "    self.inversecdf = pylab.zeros(Nrl)    \n",
      "    self.inversecdf[0] = self.x[0]\n",
      "    cdf_idx = 0\n",
      "    for n in xrange(1,self.inversecdfbins):\n",
      "      while self.cdf[cdf_idx] < y[n] and cdf_idx < Nrl:\n",
      "        cdf_idx += 1\n",
      "      self.inversecdf[n] = self.x[cdf_idx-1] + (self.x[cdf_idx] - self.x[cdf_idx-1]) * (y[n] - self.cdf[cdf_idx-1])/(self.cdf[cdf_idx] - self.cdf[cdf_idx-1]) \n",
      "      if cdf_idx >= Nrl:\n",
      "        break\n",
      "    self.delta_inversecdf = pylab.concatenate((pylab.diff(self.inversecdf), [0]))\n",
      "              \n",
      "  def random(self, N = 1000):\n",
      "    \"\"\"Give us N random numbers with the requested distribution\"\"\"\n",
      "\n",
      "    idx_f = numpy.random.uniform(size = N, high = self.Nrl-1)\n",
      "    idx = pylab.array([idx_f],'i')\n",
      "    y = self.inversecdf[idx] + (idx_f - idx)*self.delta_inversecdf[idx]\n",
      "\n",
      "    return y\n",
      "  \n",
      "  def plot_pdf(self):\n",
      "    pylab.plot(self.x, self.pdf)\n",
      "    \n",
      "  def self_test(self, N = 1000):\n",
      "    pylab.figure()\n",
      "    #The cdf\n",
      "    pylab.subplot(2,2,1)\n",
      "    pylab.plot(self.x, self.cdf)\n",
      "    #The inverse cdf\n",
      "    pylab.subplot(2,2,2)\n",
      "    y = pylab.arange(self.Nrl)/float(self.Nrl)\n",
      "    pylab.plot(y, self.inversecdf)\n",
      "    \n",
      "    #The actual generated numbers\n",
      "    pylab.subplot(2,2,3)\n",
      "    y = self.random(N)\n",
      "    p1, edges = pylab.histogram(y, bins = 50, \n",
      "                                range = (self.x.min(), self.x.max()), \n",
      "                                normed = True, new = True)\n",
      "    x1 = 0.5*(edges[0:-1] + edges[1:])\n",
      "    pylab.plot(x1, p1/p1.max())\n",
      "    pylab.plot(self.x, self.pdf/self.pdf.max())\n"
     ],
     "language": "python",
     "metadata": {},
     "outputs": [],
     "prompt_number": 1
    },
    {
     "cell_type": "code",
     "collapsed": false,
     "input": [
      "x, y = numpy.genfromtxt(\"data/radfn_tabulated.txt\").T\n",
      "GR = GeneralRandom()\n",
      "GR.set_pdf(x, y)\n",
      "draws = GR.random(1000)[0]\n",
      "import matplotlib.pyplot as plt\n",
      "%matplotlib inline\n",
      "plt.subplot(2, 1, 1)\n",
      "plt.plot(x, y)\n",
      "plt.subplot(2, 1, 2)\n",
      "plt.hist(draws, 50)\n",
      "plt.xlim(.5, 4.5)"
     ],
     "language": "python",
     "metadata": {},
     "outputs": [
      {
       "metadata": {},
       "output_type": "pyout",
       "prompt_number": 19,
       "text": [
        "(0.5, 4.5)"
       ]
      },
      {
       "metadata": {},
       "output_type": "display_data",
       "png": "[encoded data removed]",
       "text": [
        "<matplotlib.figure.Figure at 0x123987850>"
       ]
      }
     ],
     "prompt_number": 19
    },
    {
     "cell_type": "markdown",
     "metadata": {},
     "source": []
    }
   ],
   "metadata": {}
  }
 ]
}