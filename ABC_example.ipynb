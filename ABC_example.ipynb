{
 "metadata": {
  "name": "",
  "signature": "sha256:99c049aa718aad7e19b19bc54a76048382ce677fd1122e339969412f080abed7"
 },
 "nbformat": 3,
 "nbformat_minor": 0,
 "worksheets": [
  {
   "cells": [
    {
     "cell_type": "code",
     "collapsed": false,
     "input": [
      "import numpy as np\n",
      "import matplotlib.pyplot as plt\n",
      "import scipy.stats as sps\n",
      "%matplotlib inline"
     ],
     "language": "python",
     "metadata": {},
     "outputs": [],
     "prompt_number": 54
    },
    {
     "cell_type": "code",
     "collapsed": false,
     "input": [
      "# convert the radii of the imaginary planets into masses\n",
      "def radius2mass(theta, radius):\n",
      "    m, c = theta\n",
      "    return m * radius + c"
     ],
     "language": "python",
     "metadata": {},
     "outputs": [],
     "prompt_number": 5
    },
    {
     "cell_type": "code",
     "collapsed": false,
     "input": [
      "# convert the radii of the imaginary planets into masses\n",
      "def mass2radius(theta, mass):\n",
      "    m, c = theta\n",
      "    return (mass - c) / m"
     ],
     "language": "python",
     "metadata": {},
     "outputs": [],
     "prompt_number": 6
    },
    {
     "cell_type": "code",
     "collapsed": false,
     "input": [
      "def rv_K(P, m_star, msini_planet):\n",
      "    m_star_kg = m_star * 1.9891e30\n",
      "    msini_planet_kg = msini_planet * 5.972e24\n",
      "    f = msini_planet_kg / m_star_kg**(2/3.)\n",
      "    return (2 * np.pi * 6.67e-11 / (P*86400))**(1/3.) * f"
     ],
     "language": "python",
     "metadata": {},
     "outputs": [],
     "prompt_number": 70
    },
    {
     "cell_type": "code",
     "collapsed": false,
     "input": [
      "# create a population of the synthesised planets that would be detected\n",
      "def populationize(theta, r_sim, p_sim, m_star):\n",
      "    m_planet = radius2mass(theta, r_sim)  # calculate mass\n",
      "    # give it a random inclination\n",
      "    inc = np.random.uniform(0, np.pi, len(m_planet))\n",
      "    msini = m_planet * np.sin(inc)\n",
      "    K = rv_K(p_sim, m_star, msini)  # calculate semi-amplitude\n",
      "    # detected?\n",
      "    l = (K > .001) * (p_sim < 1000)\n",
      "    return msini[l]  # return msinis of detectable planets"
     ],
     "language": "python",
     "metadata": {},
     "outputs": [],
     "prompt_number": 87
    },
    {
     "cell_type": "code",
     "collapsed": false,
     "input": [
      "# compute the sufficient statistic, the KS statistic of the mass distributions\n",
      "def KS_statistic(m_obs, m_sim):\n",
      "    return sps.ks_2samp(m_obs, m_sim)[0]  # ks_stat, pvalue"
     ],
     "language": "python",
     "metadata": {},
     "outputs": [],
     "prompt_number": 72
    },
    {
     "cell_type": "code",
     "collapsed": false,
     "input": [
      "# decide whether to accept or reject\n",
      "def accept_reject(theta, msini_obs, r_sim, p_sim, m_star, tolerance):\n",
      "    msini_sim = populationize(theta, r_sim, p_sim, m_star)  # simulated msinis\n",
      "\n",
      "    # accept/reject\n",
      "    if KS_statistic(msini_obs, msini_sim) < tolerance:\n",
      "        return theta\n",
      "    else:\n",
      "        return np.ones_like(theta) * np.inf"
     ],
     "language": "python",
     "metadata": {},
     "outputs": [],
     "prompt_number": 73
    },
    {
     "cell_type": "markdown",
     "metadata": {},
     "source": [
      "For now fake data is noise free and msini_obs is a huge sample.  "
     ]
    },
    {
     "cell_type": "code",
     "collapsed": false,
     "input": [
      "# Generate fake data\n",
      "nobs, nsim = 10000, 10000\n",
      "m_true = np.random.randn(nobs)*.1 + 2\n",
      "radii = mass2radius(truth, m_true) # + np.random.randn(nobs)*.01\n",
      "inclinations = np.random.uniform(0, np.pi, nobs)\n",
      "msini_true = m_true*np.sin(inclinations)\n",
      "\n",
      "truth = [1.4, 1.5]  # slope, intercept\n",
      "periods = np.random.uniform(1., 100., nsim)  # days\n",
      "star_masses = .01*np.random.randn(nsim) + .5  # M_sun\n",
      "\n",
      "plt.plot(m_true, radii, \"k.\")\n",
      "plt.plot(m_true, (m_true-truth[1])/truth[0])\n",
      "plt.ylabel(\"Radius\")\n",
      "plt.xlabel(\"Mass\")"
     ],
     "language": "python",
     "metadata": {},
     "outputs": [
      {
       "metadata": {},
       "output_type": "pyout",
       "prompt_number": 48,
       "text": [
        "<matplotlib.text.Text at 0x10decbc90>"
       ]
      },
      {
       "metadata": {},
       "output_type": "display_data",
       "png": "[encoded data removed]",
       "text": [
        "<matplotlib.figure.Figure at 0x10e3dd350>"
       ]
      }
     ],
     "prompt_number": 48
    },
    {
     "cell_type": "markdown",
     "metadata": {},
     "source": [
      "Plot the populations"
     ]
    },
    {
     "cell_type": "code",
     "collapsed": false,
     "input": [
      "plt.subplot(2, 1, 1)\n",
      "plt.hist(radii, alpha=.5)\n",
      "plt.xlabel(\"radius\")\n",
      "plt.subplot(2, 1, 2)\n",
      "plt.hist(m_true, alpha=.5)\n",
      "plt.xlabel(\"mass\")\n",
      "plt.subplots_adjust(hspace=.3)"
     ],
     "language": "python",
     "metadata": {},
     "outputs": [
      {
       "metadata": {},
       "output_type": "display_data",
       "png": "[encoded data removed]",
       "text": [
        "<matplotlib.figure.Figure at 0x10e28a650>"
       ]
      }
     ],
     "prompt_number": 47
    },
    {
     "cell_type": "markdown",
     "metadata": {},
     "source": [
      "Using the observed radius distribution (Morton et al.), constrain the underlying mass distribution using ABC. First of all, use the true data."
     ]
    },
    {
     "cell_type": "code",
     "collapsed": false,
     "input": [
      "# generate parameter samples\n",
      "nsamp = 10000\n",
      "thetas = np.zeros((2, nsamp))\n",
      "thetas[0, :] = np.random.uniform(0., 3, nsamp)  # slope\n",
      "thetas[1, :] = np.random.uniform(-1., 3, nsamp)  # intercept\n",
      "keepsies = np.zeros_like(thetas)"
     ],
     "language": "python",
     "metadata": {},
     "outputs": [],
     "prompt_number": 64
    },
    {
     "cell_type": "code",
     "collapsed": false,
     "input": [
      "msini_sim = populationize(truth, radii, periods, star_masses)\n",
      "plt.clf()\n",
      "plt.subplot(2, 1, 1)\n",
      "plt.hist(msini_sim, color=\"b\", alpha=.5)\n",
      "plt.hist(msini_true, color=\"r\", alpha=.5)"
     ],
     "language": "python",
     "metadata": {},
     "outputs": [
      {
       "metadata": {},
       "output_type": "pyout",
       "prompt_number": 86,
       "text": [
        "(array([  799.,   783.,   771.,   754.,   921.,  1026.,  1228.,  1837.,\n",
        "         1743.,   138.]),\n",
        " array([  5.17645665e-05,   2.35794335e-01,   4.71536905e-01,\n",
        "          7.07279475e-01,   9.43022045e-01,   1.17876461e+00,\n",
        "          1.41450719e+00,   1.65024976e+00,   1.88599233e+00,\n",
        "          2.12173490e+00,   2.35747747e+00]),\n",
        " <a list of 10 Patch objects>)"
       ]
      },
      {
       "metadata": {},
       "output_type": "display_data",
       "png": "[encoded data removed]",
       "text": [
        "<matplotlib.figure.Figure at 0x11130ef10>"
       ]
      }
     ],
     "prompt_number": 86
    },
    {
     "cell_type": "code",
     "collapsed": false,
     "input": [
      "# determine whether samples are accepted or rejected\n",
      "tolerance = .2\n",
      "for i in range(nsamp):\n",
      "    keepsies[:, i] = accept_reject(thetas[:, i], msini_true, radii, periods, star_masses, tolerance)"
     ],
     "language": "python",
     "metadata": {},
     "outputs": [],
     "prompt_number": 75
    },
    {
     "cell_type": "code",
     "collapsed": false,
     "input": [
      "# Throw away rejects\n",
      "print keepsies\n",
      "l = np.isfinite(keepsies[0, :])\n",
      "parameters = np.zeros((2, len(keepsies[0, :][l])))\n",
      "parameters[0] = keepsies[0, :][l]\n",
      "parameters[1] = keepsies[1, :][l]"
     ],
     "language": "python",
     "metadata": {},
     "outputs": [
      {
       "output_type": "stream",
       "stream": "stdout",
       "text": [
        "[[ inf  inf  inf ...,  inf  inf  inf]\n",
        " [ inf  inf  inf ...,  inf  inf  inf]]\n"
       ]
      }
     ],
     "prompt_number": 78
    },
    {
     "cell_type": "code",
     "collapsed": false,
     "input": [
      "# Plot posteriors\n",
      "plt.subplot(2, 1, 1)\n",
      "plt.hist(parameters[0])\n",
      "plt.axvline(truth[0], color=\"r\")\n",
      "plt.xlabel(\"slope\")\n",
      "plt.subplot(2, 1, 2)\n",
      "plt.hist(parameters[1])\n",
      "plt.axvline(truth[1], color=\"r\")\n",
      "plt.xlabel(\"intercept\")\n",
      "plt.subplots_adjust(hspace=.3)"
     ],
     "language": "python",
     "metadata": {},
     "outputs": [
      {
       "ename": "ValueError",
       "evalue": "x must have at least one data point",
       "output_type": "pyerr",
       "traceback": [
        "\u001b[0;31m---------------------------------------------------------------------------\u001b[0m\n\u001b[0;31mValueError\u001b[0m                                Traceback (most recent call last)",
        "\u001b[0;32m<ipython-input-77-72f227272a78>\u001b[0m in \u001b[0;36m<module>\u001b[0;34m()\u001b[0m\n\u001b[1;32m      1\u001b[0m \u001b[0;31m# Plot posteriors\u001b[0m\u001b[0;34m\u001b[0m\u001b[0;34m\u001b[0m\u001b[0m\n\u001b[1;32m      2\u001b[0m \u001b[0mplt\u001b[0m\u001b[0;34m.\u001b[0m\u001b[0msubplot\u001b[0m\u001b[0;34m(\u001b[0m\u001b[0;36m2\u001b[0m\u001b[0;34m,\u001b[0m \u001b[0;36m1\u001b[0m\u001b[0;34m,\u001b[0m \u001b[0;36m1\u001b[0m\u001b[0;34m)\u001b[0m\u001b[0;34m\u001b[0m\u001b[0m\n\u001b[0;32m----> 3\u001b[0;31m \u001b[0mplt\u001b[0m\u001b[0;34m.\u001b[0m\u001b[0mhist\u001b[0m\u001b[0;34m(\u001b[0m\u001b[0mparameters\u001b[0m\u001b[0;34m[\u001b[0m\u001b[0;36m0\u001b[0m\u001b[0;34m]\u001b[0m\u001b[0;34m)\u001b[0m\u001b[0;34m\u001b[0m\u001b[0m\n\u001b[0m\u001b[1;32m      4\u001b[0m \u001b[0mplt\u001b[0m\u001b[0;34m.\u001b[0m\u001b[0maxvline\u001b[0m\u001b[0;34m(\u001b[0m\u001b[0mtruth\u001b[0m\u001b[0;34m[\u001b[0m\u001b[0;36m0\u001b[0m\u001b[0;34m]\u001b[0m\u001b[0;34m,\u001b[0m \u001b[0mcolor\u001b[0m\u001b[0;34m=\u001b[0m\u001b[0;34m\"r\"\u001b[0m\u001b[0;34m)\u001b[0m\u001b[0;34m\u001b[0m\u001b[0m\n\u001b[1;32m      5\u001b[0m \u001b[0mplt\u001b[0m\u001b[0;34m.\u001b[0m\u001b[0mxlabel\u001b[0m\u001b[0;34m(\u001b[0m\u001b[0;34m\"slope\"\u001b[0m\u001b[0;34m)\u001b[0m\u001b[0;34m\u001b[0m\u001b[0m\n",
        "\u001b[0;32m/Users/angusr/anaconda/lib/python2.7/site-packages/matplotlib/pyplot.pyc\u001b[0m in \u001b[0;36mhist\u001b[0;34m(x, bins, range, normed, weights, cumulative, bottom, histtype, align, orientation, rwidth, log, color, label, stacked, hold, **kwargs)\u001b[0m\n\u001b[1;32m   2894\u001b[0m                       \u001b[0mhisttype\u001b[0m\u001b[0;34m=\u001b[0m\u001b[0mhisttype\u001b[0m\u001b[0;34m,\u001b[0m \u001b[0malign\u001b[0m\u001b[0;34m=\u001b[0m\u001b[0malign\u001b[0m\u001b[0;34m,\u001b[0m \u001b[0morientation\u001b[0m\u001b[0;34m=\u001b[0m\u001b[0morientation\u001b[0m\u001b[0;34m,\u001b[0m\u001b[0;34m\u001b[0m\u001b[0m\n\u001b[1;32m   2895\u001b[0m                       \u001b[0mrwidth\u001b[0m\u001b[0;34m=\u001b[0m\u001b[0mrwidth\u001b[0m\u001b[0;34m,\u001b[0m \u001b[0mlog\u001b[0m\u001b[0;34m=\u001b[0m\u001b[0mlog\u001b[0m\u001b[0;34m,\u001b[0m \u001b[0mcolor\u001b[0m\u001b[0;34m=\u001b[0m\u001b[0mcolor\u001b[0m\u001b[0;34m,\u001b[0m \u001b[0mlabel\u001b[0m\u001b[0;34m=\u001b[0m\u001b[0mlabel\u001b[0m\u001b[0;34m,\u001b[0m\u001b[0;34m\u001b[0m\u001b[0m\n\u001b[0;32m-> 2896\u001b[0;31m                       stacked=stacked, **kwargs)\n\u001b[0m\u001b[1;32m   2897\u001b[0m         \u001b[0mdraw_if_interactive\u001b[0m\u001b[0;34m(\u001b[0m\u001b[0;34m)\u001b[0m\u001b[0;34m\u001b[0m\u001b[0m\n\u001b[1;32m   2898\u001b[0m     \u001b[0;32mfinally\u001b[0m\u001b[0;34m:\u001b[0m\u001b[0;34m\u001b[0m\u001b[0m\n",
        "\u001b[0;32m/Users/angusr/anaconda/lib/python2.7/site-packages/matplotlib/axes/_axes.pyc\u001b[0m in \u001b[0;36mhist\u001b[0;34m(self, x, bins, range, normed, weights, cumulative, bottom, histtype, align, orientation, rwidth, log, color, label, stacked, **kwargs)\u001b[0m\n\u001b[1;32m   5595\u001b[0m         \u001b[0mflat\u001b[0m \u001b[0;34m=\u001b[0m \u001b[0mnp\u001b[0m\u001b[0;34m.\u001b[0m\u001b[0mravel\u001b[0m\u001b[0;34m(\u001b[0m\u001b[0mx\u001b[0m\u001b[0;34m)\u001b[0m\u001b[0;34m\u001b[0m\u001b[0m\n\u001b[1;32m   5596\u001b[0m         \u001b[0;32mif\u001b[0m \u001b[0mlen\u001b[0m\u001b[0;34m(\u001b[0m\u001b[0mflat\u001b[0m\u001b[0;34m)\u001b[0m \u001b[0;34m==\u001b[0m \u001b[0;36m0\u001b[0m\u001b[0;34m:\u001b[0m\u001b[0;34m\u001b[0m\u001b[0m\n\u001b[0;32m-> 5597\u001b[0;31m             \u001b[0;32mraise\u001b[0m \u001b[0mValueError\u001b[0m\u001b[0;34m(\u001b[0m\u001b[0;34m\"x must have at least one data point\"\u001b[0m\u001b[0;34m)\u001b[0m\u001b[0;34m\u001b[0m\u001b[0m\n\u001b[0m\u001b[1;32m   5598\u001b[0m         \u001b[0;32melif\u001b[0m \u001b[0mlen\u001b[0m\u001b[0;34m(\u001b[0m\u001b[0mflat\u001b[0m\u001b[0;34m)\u001b[0m \u001b[0;34m==\u001b[0m \u001b[0;36m1\u001b[0m \u001b[0;32mand\u001b[0m \u001b[0;32mnot\u001b[0m \u001b[0mbinsgiven\u001b[0m\u001b[0;34m:\u001b[0m\u001b[0;34m\u001b[0m\u001b[0m\n\u001b[1;32m   5599\u001b[0m             raise ValueError(\n",
        "\u001b[0;31mValueError\u001b[0m: x must have at least one data point"
       ]
      },
      {
       "metadata": {},
       "output_type": "display_data",
       "png": "[encoded data removed]",
       "text": [
        "<matplotlib.figure.Figure at 0x1112175d0>"
       ]
      }
     ],
     "prompt_number": 77
    },
    {
     "cell_type": "code",
     "collapsed": false,
     "input": [],
     "language": "python",
     "metadata": {},
     "outputs": []
    }
   ],
   "metadata": {}
  }
 ]
}