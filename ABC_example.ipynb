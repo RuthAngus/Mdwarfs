{
 "metadata": {
  "name": "",
  "signature": "sha256:3d5f2b599713725d656967978cab4b035adff089327fe5e773c34f1f38cbada6"
 },
 "nbformat": 3,
 "nbformat_minor": 0,
 "worksheets": [
  {
   "cells": [
    {
     "cell_type": "code",
     "collapsed": false,
     "input": [
      "import numpy as np\n",
      "import matplotlib.pyplot as plt\n",
      "import scipy.stats as sps\n",
      "%matplotlib inline"
     ],
     "language": "python",
     "metadata": {},
     "outputs": [],
     "prompt_number": 54
    },
    {
     "cell_type": "code",
     "collapsed": false,
     "input": [
      "# convert the radii of the imaginary planets into masses\n",
      "def radius2mass(theta, radius):\n",
      "    m, c = theta\n",
      "    return m * radius + c"
     ],
     "language": "python",
     "metadata": {},
     "outputs": [],
     "prompt_number": 5
    },
    {
     "cell_type": "code",
     "collapsed": false,
     "input": [
      "# convert the radii of the imaginary planets into masses\n",
      "def mass2radius(theta, mass):\n",
      "    m, c = theta\n",
      "    return (mass - c) / m"
     ],
     "language": "python",
     "metadata": {},
     "outputs": [],
     "prompt_number": 6
    },
    {
     "cell_type": "code",
     "collapsed": false,
     "input": [
      "def rv_K(P, m_star, msini_planet):\n",
      "    m_star_kg = m_star * 1.9891e30\n",
      "    msini_planet_kg = msini_planet * 5.972e24\n",
      "    f = msini_planet_kg / m_star_kg**(2/3.)\n",
      "    return (2 * np.pi * 6.67e-11 / (P*86400))**(1/3.) * f"
     ],
     "language": "python",
     "metadata": {},
     "outputs": [],
     "prompt_number": 7
    },
    {
     "cell_type": "code",
     "collapsed": false,
     "input": [
      "# create a population of the synthesised planets that would be detected\n",
      "def populationize(theta, r_sim, p_sim, m_star, inc):\n",
      "    m_planet = radius2mass(theta, r_sim)  # calculate mass\n",
      "    K = rv_K(p_sim, m_star, m_planet, inc)  # calculate semi-amplitude\n",
      "    # detected?\n",
      "    l = (K > .1) * (p_sim < 100)\n",
      "    return m_planet[l] * np.sin(inc[l])  # return msinis"
     ],
     "language": "python",
     "metadata": {},
     "outputs": [],
     "prompt_number": 42
    },
    {
     "cell_type": "code",
     "collapsed": false,
     "input": [
      "# compute the sufficient statistic, the KS statistic of the mass distributions\n",
      "def KS_statistic(m_obs, m_sim):\n",
      "    return sps.ks_2samp(m_obs, m_sim)[0]  # ks_stat, pvalue"
     ],
     "language": "python",
     "metadata": {},
     "outputs": [],
     "prompt_number": 43
    },
    {
     "cell_type": "code",
     "collapsed": false,
     "input": [
      "# decide whether to accept or reject\n",
      "def accept_reject(theta, msini_obs, r_sim, p_sim, m_star, inc, tolerance):\n",
      "    msini_sim = populationize(theta, r_sim, p_sim, m_star, inc)  # simulated msinis\n",
      "\n",
      "    # accept/reject\n",
      "    if KS_statistic(msini_obs, msini_sim) < tolerance:\n",
      "        return theta\n",
      "    else:\n",
      "        return np.ones_like(theta) * np.inf"
     ],
     "language": "python",
     "metadata": {},
     "outputs": [],
     "prompt_number": 44
    },
    {
     "cell_type": "markdown",
     "metadata": {},
     "source": [
      "For now fake data is noise free and msini_obs is a huge sample.  "
     ]
    },
    {
     "cell_type": "code",
     "collapsed": false,
     "input": [
      "# Generate fake data\n",
      "nobs, nsim = 10000, 10000\n",
      "m_true = np.random.randn(nobs)*.1 + 2\n",
      "radii = mass2radius(truth, m_true) # + np.random.randn(nobs)*.01\n",
      "inclinations = np.random.uniform(0, np.pi, nobs)\n",
      "msini_true = m_true*np.sin(inclinations)\n",
      "\n",
      "truth = [1.4, 1.5]  # slope, intercept\n",
      "periods = np.random.uniform(1., 100., nsim)  # days\n",
      "star_masses = .01*np.random.randn(nsim) + .5  # M_sun\n",
      "\n",
      "plt.plot(m_true, radii, \"k.\")\n",
      "plt.plot(m_true, (m_true-truth[1])/truth[0])\n",
      "plt.ylabel(\"Radius\")\n",
      "plt.xlabel(\"Mass\")"
     ],
     "language": "python",
     "metadata": {},
     "outputs": [
      {
       "metadata": {},
       "output_type": "pyout",
       "prompt_number": 48,
       "text": [
        "<matplotlib.text.Text at 0x10decbc90>"
       ]
      },
      {
       "metadata": {},
       "output_type": "display_data",
       "png": "[encoded data removed]",
       "text": [
        "<matplotlib.figure.Figure at 0x10e3dd350>"
       ]
      }
     ],
     "prompt_number": 48
    },
    {
     "cell_type": "markdown",
     "metadata": {},
     "source": [
      "Plot the populations"
     ]
    },
    {
     "cell_type": "code",
     "collapsed": false,
     "input": [
      "plt.subplot(2, 1, 1)\n",
      "plt.hist(radii, alpha=.5)\n",
      "plt.xlabel(\"radius\")\n",
      "plt.subplot(2, 1, 2)\n",
      "plt.hist(m_true, alpha=.5)\n",
      "plt.xlabel(\"mass\")\n",
      "plt.subplots_adjust(hspace=.3)"
     ],
     "language": "python",
     "metadata": {},
     "outputs": [
      {
       "metadata": {},
       "output_type": "display_data",
       "png": "[encoded data removed]",
       "text": [
        "<matplotlib.figure.Figure at 0x10e28a650>"
       ]
      }
     ],
     "prompt_number": 47
    },
    {
     "cell_type": "markdown",
     "metadata": {},
     "source": [
      "Using the observed radius distribution (Morton et al.), constrain the underlying mass distribution using ABC. First of all, use the true data."
     ]
    },
    {
     "cell_type": "code",
     "collapsed": false,
     "input": [
      "# generate parameter samples\n",
      "nsamp = 10000\n",
      "thetas = np.zeros((2, nsamp))\n",
      "thetas[0, :] = np.random.uniform(0., 3, nsamp)  # slope\n",
      "thetas[1, :] = np.random.uniform(-1., 3, nsamp)  # intercept\n",
      "keepsies = np.zeros_like(thetas)"
     ],
     "language": "python",
     "metadata": {},
     "outputs": [],
     "prompt_number": 64
    },
    {
     "cell_type": "code",
     "collapsed": false,
     "input": [
      "# determine whether samples are accepted or rejected\n",
      "tolerance = .2\n",
      "for i in range(nsamp):\n",
      "    keepsies[:, i] = accept_reject(thetas[:, i], msini_true, radii, periods, star_masses, inclinations, tolerance)"
     ],
     "language": "python",
     "metadata": {},
     "outputs": [],
     "prompt_number": 65
    },
    {
     "cell_type": "code",
     "collapsed": false,
     "input": [
      "l = np.isfinite(keepsies[0, :])\n",
      "parameters = np.zeros((2, len(keepsies[0, :][l])))\n",
      "parameters[0] = keepsies[0, :][l]\n",
      "parameters[1] = keepsies[1, :][l]"
     ],
     "language": "python",
     "metadata": {},
     "outputs": [],
     "prompt_number": 66
    },
    {
     "cell_type": "code",
     "collapsed": false,
     "input": [
      "plt.subplot(2, 1, 1)\n",
      "plt.hist(parameters[0])\n",
      "plt.axvline(truth[0], color=\"r\")\n",
      "plt.xlabel(\"slope\")\n",
      "plt.subplot(2, 1, 2)\n",
      "plt.hist(parameters[1])\n",
      "plt.axvline(truth[1], color=\"r\")\n",
      "plt.xlabel(\"intercept\")\n",
      "plt.subplots_adjust(hspace=.3)"
     ],
     "language": "python",
     "metadata": {},
     "outputs": [
      {
       "metadata": {},
       "output_type": "display_data",
       "png": "[encoded data removed]",
       "text": [
        "<matplotlib.figure.Figure at 0x11141d4d0>"
       ]
      }
     ],
     "prompt_number": 67
    },
    {
     "cell_type": "code",
     "collapsed": false,
     "input": [],
     "language": "python",
     "metadata": {},
     "outputs": []
    }
   ],
   "metadata": {}
  }
 ]
}